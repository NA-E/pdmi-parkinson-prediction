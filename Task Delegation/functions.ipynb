{
 "cells": [
  {
   "cell_type": "code",
   "execution_count": null,
   "id": "7f5fd7fd",
   "metadata": {},
   "outputs": [],
   "source": [
    "import pandas as pd\n",
    "import seaborn as sns\n",
    "import matplotlib.pyplot as plt\n",
    "\n",
    "def generate_heatmap(file_path, image_name, metric_name):\n",
    "\n",
    "    df = pd.read_excel(file_path)\n",
    "\n",
    "    print(df.head())\n",
    "\n",
    "    melted_df = df.melt(id_vars=['Dimensionality Reduction', 'Dataset'], \n",
    "                        value_vars=['Linear Regression', 'Random Forest', 'XGBoost', 'SVR'],\n",
    "                        var_name='Model', value_name=metric_name)\n",
    "\n",
    "    melted_df['Model_DimRed'] = melted_df['Model'] + ' - ' + melted_df['Dimensionality Reduction']\n",
    "\n",
    "    pivot_df = melted_df.pivot_table(index='Model_DimRed', columns='Dataset', values=metric_name)\n",
    "\n",
    "    plt.figure(figsize=(14, 8))\n",
    "    sns.heatmap(pivot_df, annot=True, cmap='viridis', linewidths=0.5)\n",
    "    plt.title('MAE Scores of Different Models Across Datasets')\n",
    "    plt.xlabel('Dataset')\n",
    "    plt.ylabel('Model + Dimensionality Reduction')\n",
    "    plt.xticks(rotation=45, ha='right')\n",
    "    plt.tight_layout()\n",
    "\n",
    "    plt.savefig(image_name)\n",
    "    plt.show()"
   ]
  }
 ],
 "metadata": {
  "kernelspec": {
   "display_name": "Python 3 (ipykernel)",
   "language": "python",
   "name": "python3"
  },
  "language_info": {
   "codemirror_mode": {
    "name": "ipython",
    "version": 3
   },
   "file_extension": ".py",
   "mimetype": "text/x-python",
   "name": "python",
   "nbconvert_exporter": "python",
   "pygments_lexer": "ipython3",
   "version": "3.9.13"
  }
 },
 "nbformat": 4,
 "nbformat_minor": 5
}
