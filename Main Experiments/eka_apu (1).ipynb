{
 "cells": [
  {
   "cell_type": "code",
   "execution_count": null,
   "metadata": {
    "colab": {
     "base_uri": "https://localhost:8080/"
    },
    "id": "ZjpWADUizldV",
    "outputId": "42986574-bf42-4529-a3d9-115ca383152e"
   },
   "outputs": [
    {
     "name": "stdout",
     "output_type": "stream",
     "text": [
      "Collecting dotmap\n",
      "  Downloading dotmap-1.3.30-py3-none-any.whl (11 kB)\n",
      "Installing collected packages: dotmap\n",
      "Successfully installed dotmap-1.3.30\n"
     ]
    }
   ],
   "source": [
    "!pip install dotmap"
   ]
  },
  {
   "cell_type": "code",
   "execution_count": 3,
   "metadata": {
    "colab": {
     "base_uri": "https://localhost:8080/",
     "height": 767
    },
    "id": "_Wn7iUhvf4HK",
    "outputId": "2cfc8aa2-5a0a-4ba0-f551-4ff3949dc936"
   },
   "outputs": [
    {
     "ename": "FileNotFoundError",
     "evalue": "[Errno 2] No such file or directory: '\\\\content\\\\drive\\\\MyDrive\\\\Ruhan\\\\dadu_etal_generated_data\\\\clinical\\\\ppmi\\\\preprocessed\\\\01_22_2024.pkl'",
     "output_type": "error",
     "traceback": [
      "\u001b[1;31m---------------------------------------------------------------------------\u001b[0m",
      "\u001b[1;31mFileNotFoundError\u001b[0m                         Traceback (most recent call last)",
      "\u001b[1;32m~\\AppData\\Local\\Temp\\ipykernel_14240\\3291563253.py\u001b[0m in \u001b[0;36m<module>\u001b[1;34m\u001b[0m\n\u001b[0;32m     10\u001b[0m \u001b[1;33m\u001b[0m\u001b[0m\n\u001b[0;32m     11\u001b[0m \u001b[1;31m# Load preprocessed data\u001b[0m\u001b[1;33m\u001b[0m\u001b[1;33m\u001b[0m\u001b[0m\n\u001b[1;32m---> 12\u001b[1;33m \u001b[0mpreprocessed_data\u001b[0m \u001b[1;33m=\u001b[0m \u001b[0mpd\u001b[0m\u001b[1;33m.\u001b[0m\u001b[0mread_pickle\u001b[0m\u001b[1;33m(\u001b[0m\u001b[0mos\u001b[0m\u001b[1;33m.\u001b[0m\u001b[0mpath\u001b[0m\u001b[1;33m.\u001b[0m\u001b[0mjoin\u001b[0m\u001b[1;33m(\u001b[0m\u001b[0mPPMI_CLINICAL_GEN_DATA_DIR_INSIDE\u001b[0m\u001b[1;33m,\u001b[0m \u001b[1;34m'preprocessed'\u001b[0m\u001b[1;33m,\u001b[0m \u001b[1;34mf\"{dataset_name}.pkl\"\u001b[0m\u001b[1;33m)\u001b[0m\u001b[1;33m)\u001b[0m\u001b[1;33m\u001b[0m\u001b[1;33m\u001b[0m\u001b[0m\n\u001b[0m\u001b[0;32m     13\u001b[0m \u001b[1;33m\u001b[0m\u001b[0m\n\u001b[0;32m     14\u001b[0m \u001b[1;31m# Load representation learning data\u001b[0m\u001b[1;33m\u001b[0m\u001b[1;33m\u001b[0m\u001b[0m\n",
      "\u001b[1;32mC:\\ProgramData\\Anaconda3\\lib\\site-packages\\pandas\\io\\pickle.py\u001b[0m in \u001b[0;36mread_pickle\u001b[1;34m(filepath_or_buffer, compression, storage_options)\u001b[0m\n\u001b[0;32m    185\u001b[0m     \"\"\"  # noqa: E501\n\u001b[0;32m    186\u001b[0m     \u001b[0mexcs_to_catch\u001b[0m \u001b[1;33m=\u001b[0m \u001b[1;33m(\u001b[0m\u001b[0mAttributeError\u001b[0m\u001b[1;33m,\u001b[0m \u001b[0mImportError\u001b[0m\u001b[1;33m,\u001b[0m \u001b[0mModuleNotFoundError\u001b[0m\u001b[1;33m,\u001b[0m \u001b[0mTypeError\u001b[0m\u001b[1;33m)\u001b[0m\u001b[1;33m\u001b[0m\u001b[1;33m\u001b[0m\u001b[0m\n\u001b[1;32m--> 187\u001b[1;33m     with get_handle(\n\u001b[0m\u001b[0;32m    188\u001b[0m         \u001b[0mfilepath_or_buffer\u001b[0m\u001b[1;33m,\u001b[0m\u001b[1;33m\u001b[0m\u001b[1;33m\u001b[0m\u001b[0m\n\u001b[0;32m    189\u001b[0m         \u001b[1;34m\"rb\"\u001b[0m\u001b[1;33m,\u001b[0m\u001b[1;33m\u001b[0m\u001b[1;33m\u001b[0m\u001b[0m\n",
      "\u001b[1;32mC:\\ProgramData\\Anaconda3\\lib\\site-packages\\pandas\\io\\common.py\u001b[0m in \u001b[0;36mget_handle\u001b[1;34m(path_or_buf, mode, encoding, compression, memory_map, is_text, errors, storage_options)\u001b[0m\n\u001b[0;32m    793\u001b[0m         \u001b[1;32melse\u001b[0m\u001b[1;33m:\u001b[0m\u001b[1;33m\u001b[0m\u001b[1;33m\u001b[0m\u001b[0m\n\u001b[0;32m    794\u001b[0m             \u001b[1;31m# Binary mode\u001b[0m\u001b[1;33m\u001b[0m\u001b[1;33m\u001b[0m\u001b[0m\n\u001b[1;32m--> 795\u001b[1;33m             \u001b[0mhandle\u001b[0m \u001b[1;33m=\u001b[0m \u001b[0mopen\u001b[0m\u001b[1;33m(\u001b[0m\u001b[0mhandle\u001b[0m\u001b[1;33m,\u001b[0m \u001b[0mioargs\u001b[0m\u001b[1;33m.\u001b[0m\u001b[0mmode\u001b[0m\u001b[1;33m)\u001b[0m\u001b[1;33m\u001b[0m\u001b[1;33m\u001b[0m\u001b[0m\n\u001b[0m\u001b[0;32m    796\u001b[0m         \u001b[0mhandles\u001b[0m\u001b[1;33m.\u001b[0m\u001b[0mappend\u001b[0m\u001b[1;33m(\u001b[0m\u001b[0mhandle\u001b[0m\u001b[1;33m)\u001b[0m\u001b[1;33m\u001b[0m\u001b[1;33m\u001b[0m\u001b[0m\n\u001b[0;32m    797\u001b[0m \u001b[1;33m\u001b[0m\u001b[0m\n",
      "\u001b[1;31mFileNotFoundError\u001b[0m: [Errno 2] No such file or directory: '\\\\content\\\\drive\\\\MyDrive\\\\Ruhan\\\\dadu_etal_generated_data\\\\clinical\\\\ppmi\\\\preprocessed\\\\01_22_2024.pkl'"
     ]
    }
   ],
   "source": [
    "import os\n",
    "import pickle\n",
    "from pathlib import Path\n",
    "import pandas as pd\n",
    "\n",
    "# Define paths\n",
    "PPMI_CLINICAL_GEN_DATA_DIR_INSIDE = Path('/content/drive/MyDrive/Ruhan')\n",
    "dataset_name = '01_22_2024'\n",
    "PPMI_CLINICAL_GEN_DATA_DIR_INSIDE = PPMI_CLINICAL_GEN_DATA_DIR_INSIDE / 'dadu_etal_generated_data/clinical/ppmi'\n",
    "\n",
    "# Load preprocessed data\n",
    "preprocessed_data = pd.read_pickle(os.path.join(PPMI_CLINICAL_GEN_DATA_DIR_INSIDE, 'preprocessed', f\"{dataset_name}.pkl\"))\n",
    "\n",
    "# Load representation learning data\n",
    "representation_learning_data = pd.read_pickle(os.path.join(PPMI_CLINICAL_GEN_DATA_DIR_INSIDE, 'representation_learning', f\"{dataset_name}.pkl\"))\n",
    "\n",
    "# Load clustering data\n",
    "clustering_data = pd.read_pickle(os.path.join(PPMI_CLINICAL_GEN_DATA_DIR_INSIDE, 'clustering', f\"{dataset_name}.pkl\"))\n",
    "\n",
    "# Combine data\n",
    "input_data = {**preprocessed_data, **representation_learning_data, **clustering_data}\n",
    "datasets = input_data['data_names']\n",
    "dset_name = 'paper_experiment_flip_outlier'\n",
    "input_data['M_chosen'][dset_name]\n"
   ]
  },
  {
   "cell_type": "code",
   "execution_count": null,
   "metadata": {
    "id": "cFzgvRIdh6Ik"
   },
   "outputs": [],
   "source": [
    "dataframe = pd.DataFrame(input_data['M_chosen'][dset_name])\n"
   ]
  },
  {
   "cell_type": "code",
   "execution_count": null,
   "metadata": {
    "id": "7saWlUx_iJ1U"
   },
   "outputs": [],
   "source": [
    "bl_columns = [col for col in dataframe.columns if 'BL' in col]\n",
    "v04_columns = [col for col in dataframe.columns if 'V04' in col]\n",
    "v06_columns = [col for col in dataframe.columns if 'V06' in col]\n",
    "v08_columns = [col for col in dataframe.columns if 'V08' in col]\n",
    "v10_columns = [col for col in dataframe.columns if 'V10' in col]\n",
    "v12_columns = [col for col in dataframe.columns if 'V12' in col]\n",
    "\n",
    "bl_dataframe = dataframe[bl_columns]\n",
    "v04_dataframe = dataframe[v04_columns]\n",
    "v06_dataframe = dataframe[v06_columns]\n",
    "v08_dataframe = dataframe[v08_columns]\n",
    "v10_dataframe = dataframe[v10_columns]\n",
    "v12_dataframe = dataframe[v12_columns]"
   ]
  },
  {
   "cell_type": "code",
   "execution_count": null,
   "metadata": {
    "id": "VtaHwMMvix-1"
   },
   "outputs": [],
   "source": [
    "# file_name = \"v12_dataset.xlsx\"\n",
    "# v12_dataframe.to_excel(file_name)"
   ]
  },
  {
   "cell_type": "code",
   "execution_count": 2,
   "metadata": {
    "id": "QcJgxnPnkMDj"
   },
   "outputs": [
    {
     "ename": "NameError",
     "evalue": "name 'dataframe' is not defined",
     "output_type": "error",
     "traceback": [
      "\u001b[1;31m---------------------------------------------------------------------------\u001b[0m",
      "\u001b[1;31mNameError\u001b[0m                                 Traceback (most recent call last)",
      "\u001b[1;32m~\\AppData\\Local\\Temp\\ipykernel_14240\\1028058691.py\u001b[0m in \u001b[0;36m<module>\u001b[1;34m\u001b[0m\n\u001b[1;32m----> 1\u001b[1;33m \u001b[0mbl_v04_columns\u001b[0m \u001b[1;33m=\u001b[0m \u001b[1;33m[\u001b[0m\u001b[0mcol\u001b[0m \u001b[1;32mfor\u001b[0m \u001b[0mcol\u001b[0m \u001b[1;32min\u001b[0m \u001b[0mdataframe\u001b[0m\u001b[1;33m.\u001b[0m\u001b[0mcolumns\u001b[0m \u001b[1;32mif\u001b[0m \u001b[1;34m'BL'\u001b[0m \u001b[1;32min\u001b[0m \u001b[0mcol\u001b[0m \u001b[1;32mor\u001b[0m \u001b[1;34m'V04'\u001b[0m \u001b[1;32min\u001b[0m \u001b[0mcol\u001b[0m\u001b[1;33m]\u001b[0m\u001b[1;33m\u001b[0m\u001b[1;33m\u001b[0m\u001b[0m\n\u001b[0m\u001b[0;32m      2\u001b[0m \u001b[0mbl_v04_v06_columns\u001b[0m \u001b[1;33m=\u001b[0m \u001b[1;33m[\u001b[0m\u001b[0mcol\u001b[0m \u001b[1;32mfor\u001b[0m \u001b[0mcol\u001b[0m \u001b[1;32min\u001b[0m \u001b[0mdataframe\u001b[0m\u001b[1;33m.\u001b[0m\u001b[0mcolumns\u001b[0m \u001b[1;32mif\u001b[0m \u001b[1;34m'BL'\u001b[0m \u001b[1;32min\u001b[0m \u001b[0mcol\u001b[0m \u001b[1;32mor\u001b[0m \u001b[1;34m'V04'\u001b[0m \u001b[1;32min\u001b[0m \u001b[0mcol\u001b[0m \u001b[1;32mor\u001b[0m \u001b[1;34m'V06'\u001b[0m \u001b[1;32min\u001b[0m \u001b[0mcol\u001b[0m\u001b[1;33m]\u001b[0m\u001b[1;33m\u001b[0m\u001b[1;33m\u001b[0m\u001b[0m\n\u001b[0;32m      3\u001b[0m \u001b[0mbl_v04_v06_v08_columns\u001b[0m \u001b[1;33m=\u001b[0m \u001b[1;33m[\u001b[0m\u001b[0mcol\u001b[0m \u001b[1;32mfor\u001b[0m \u001b[0mcol\u001b[0m \u001b[1;32min\u001b[0m \u001b[0mdataframe\u001b[0m\u001b[1;33m.\u001b[0m\u001b[0mcolumns\u001b[0m \u001b[1;32mif\u001b[0m \u001b[1;34m'BL'\u001b[0m \u001b[1;32min\u001b[0m \u001b[0mcol\u001b[0m \u001b[1;32mor\u001b[0m \u001b[1;34m'V04'\u001b[0m \u001b[1;32min\u001b[0m \u001b[0mcol\u001b[0m \u001b[1;32mor\u001b[0m \u001b[1;34m'V06'\u001b[0m \u001b[1;32min\u001b[0m \u001b[0mcol\u001b[0m \u001b[1;32mor\u001b[0m \u001b[1;34m'V08'\u001b[0m \u001b[1;32min\u001b[0m \u001b[0mcol\u001b[0m\u001b[1;33m]\u001b[0m\u001b[1;33m\u001b[0m\u001b[1;33m\u001b[0m\u001b[0m\n\u001b[0;32m      4\u001b[0m \u001b[0mbl_v04_v06_v08_v10_columns\u001b[0m \u001b[1;33m=\u001b[0m \u001b[1;33m[\u001b[0m\u001b[0mcol\u001b[0m \u001b[1;32mfor\u001b[0m \u001b[0mcol\u001b[0m \u001b[1;32min\u001b[0m \u001b[0mdataframe\u001b[0m\u001b[1;33m.\u001b[0m\u001b[0mcolumns\u001b[0m \u001b[1;32mif\u001b[0m \u001b[1;34m'BL'\u001b[0m \u001b[1;32min\u001b[0m \u001b[0mcol\u001b[0m \u001b[1;32mor\u001b[0m \u001b[1;34m'V04'\u001b[0m \u001b[1;32min\u001b[0m \u001b[0mcol\u001b[0m \u001b[1;32mor\u001b[0m \u001b[1;34m'V06'\u001b[0m \u001b[1;32min\u001b[0m \u001b[0mcol\u001b[0m \u001b[1;32mor\u001b[0m \u001b[1;34m'V08'\u001b[0m \u001b[1;32min\u001b[0m \u001b[0mcol\u001b[0m  \u001b[1;32mor\u001b[0m \u001b[1;34m'V10'\u001b[0m \u001b[1;32min\u001b[0m \u001b[0mcol\u001b[0m\u001b[1;33m]\u001b[0m\u001b[1;33m\u001b[0m\u001b[1;33m\u001b[0m\u001b[0m\n\u001b[0;32m      5\u001b[0m \u001b[0mbl_v04_v06_v08_v10_v12_columns\u001b[0m \u001b[1;33m=\u001b[0m \u001b[1;33m[\u001b[0m\u001b[0mcol\u001b[0m \u001b[1;32mfor\u001b[0m \u001b[0mcol\u001b[0m \u001b[1;32min\u001b[0m \u001b[0mdataframe\u001b[0m\u001b[1;33m.\u001b[0m\u001b[0mcolumns\u001b[0m \u001b[1;32mif\u001b[0m \u001b[1;34m'BL'\u001b[0m \u001b[1;32min\u001b[0m \u001b[0mcol\u001b[0m \u001b[1;32mor\u001b[0m \u001b[1;34m'V04'\u001b[0m \u001b[1;32min\u001b[0m \u001b[0mcol\u001b[0m \u001b[1;32mor\u001b[0m \u001b[1;34m'V06'\u001b[0m \u001b[1;32min\u001b[0m \u001b[0mcol\u001b[0m \u001b[1;32mor\u001b[0m \u001b[1;34m'V08'\u001b[0m \u001b[1;32min\u001b[0m \u001b[0mcol\u001b[0m  \u001b[1;32mor\u001b[0m \u001b[1;34m'V10'\u001b[0m \u001b[1;32min\u001b[0m \u001b[0mcol\u001b[0m \u001b[1;32mor\u001b[0m \u001b[1;34m'V12'\u001b[0m \u001b[1;32min\u001b[0m \u001b[0mcol\u001b[0m\u001b[1;33m]\u001b[0m\u001b[1;33m\u001b[0m\u001b[1;33m\u001b[0m\u001b[0m\n",
      "\u001b[1;31mNameError\u001b[0m: name 'dataframe' is not defined"
     ]
    }
   ],
   "source": [
    "bl_v04_columns = [col for col in dataframe.columns if 'BL' in col or 'V04' in col]\n",
    "bl_v04_v06_columns = [col for col in dataframe.columns if 'BL' in col or 'V04' in col or 'V06' in col]\n",
    "bl_v04_v06_v08_columns = [col for col in dataframe.columns if 'BL' in col or 'V04' in col or 'V06' in col or 'V08' in col]\n",
    "bl_v04_v06_v08_v10_columns = [col for col in dataframe.columns if 'BL' in col or 'V04' in col or 'V06' in col or 'V08' in col  or 'V10' in col]\n",
    "bl_v04_v06_v08_v10_v12_columns = [col for col in dataframe.columns if 'BL' in col or 'V04' in col or 'V06' in col or 'V08' in col  or 'V10' in col or 'V12' in col]\n",
    "\n",
    "bl_v04_dataframe = dataframe[bl_v04_columns]\n",
    "bl_v04_v06_dataframe = dataframe[bl_v04_v06_columns]\n",
    "bl_v04_v06_v08_dataframe = dataframe[bl_v04_v06_v08_columns]\n",
    "bl_v04_v06_v08_v10_dataframe = dataframe[bl_v04_v06_v08_v10_columns]\n",
    "bl_v04_v06_v08_v10_v12_dataframe = dataframe[bl_v04_v06_v08_v10_v12_columns]\n"
   ]
  },
  {
   "cell_type": "code",
   "execution_count": 1,
   "metadata": {},
   "outputs": [
    {
     "ename": "NameError",
     "evalue": "name 'bl_v04_dataframe' is not defined",
     "output_type": "error",
     "traceback": [
      "\u001b[1;31m---------------------------------------------------------------------------\u001b[0m",
      "\u001b[1;31mNameError\u001b[0m                                 Traceback (most recent call last)",
      "\u001b[1;32m~\\AppData\\Local\\Temp\\ipykernel_14240\\1896458970.py\u001b[0m in \u001b[0;36m<module>\u001b[1;34m\u001b[0m\n\u001b[1;32m----> 1\u001b[1;33m \u001b[0mbl_v04_dataframe\u001b[0m\u001b[1;33m\u001b[0m\u001b[1;33m\u001b[0m\u001b[0m\n\u001b[0m",
      "\u001b[1;31mNameError\u001b[0m: name 'bl_v04_dataframe' is not defined"
     ]
    }
   ],
   "source": [
    "bl_v04_dataframe"
   ]
  },
  {
   "cell_type": "code",
   "execution_count": null,
   "metadata": {
    "colab": {
     "base_uri": "https://localhost:8080/"
    },
    "id": "dMreTaugRKIQ",
    "outputId": "c430fcb1-1a06-490a-c042-299c2c6e22b8"
   },
   "outputs": [
    {
     "name": "stderr",
     "output_type": "stream",
     "text": [
      "/usr/local/lib/python3.10/dist-packages/sklearn/cluster/_kmeans.py:870: FutureWarning: The default value of `n_init` will change from 10 to 'auto' in 1.4. Set the value of `n_init` explicitly to suppress the warning\n",
      "  warnings.warn(\n",
      "/usr/local/lib/python3.10/dist-packages/sklearn/cluster/_kmeans.py:870: FutureWarning: The default value of `n_init` will change from 10 to 'auto' in 1.4. Set the value of `n_init` explicitly to suppress the warning\n",
      "  warnings.warn(\n",
      "/usr/local/lib/python3.10/dist-packages/sklearn/decomposition/_fastica.py:542: FutureWarning: Starting in v1.3, whiten='unit-variance' will be used by default.\n",
      "  warnings.warn(\n",
      "/usr/local/lib/python3.10/dist-packages/sklearn/cluster/_kmeans.py:870: FutureWarning: The default value of `n_init` will change from 10 to 'auto' in 1.4. Set the value of `n_init` explicitly to suppress the warning\n",
      "  warnings.warn(\n",
      "/usr/local/lib/python3.10/dist-packages/sklearn/decomposition/_nmf.py:1665: ConvergenceWarning: Maximum number of iterations 200 reached. Increase it to improve convergence.\n",
      "  warnings.warn(\n",
      "/usr/local/lib/python3.10/dist-packages/sklearn/cluster/_kmeans.py:870: FutureWarning: The default value of `n_init` will change from 10 to 'auto' in 1.4. Set the value of `n_init` explicitly to suppress the warning\n",
      "  warnings.warn(\n",
      "/usr/local/lib/python3.10/dist-packages/sklearn/cluster/_kmeans.py:870: FutureWarning: The default value of `n_init` will change from 10 to 'auto' in 1.4. Set the value of `n_init` explicitly to suppress the warning\n",
      "  warnings.warn(\n",
      "/usr/local/lib/python3.10/dist-packages/sklearn/decomposition/_fastica.py:542: FutureWarning: Starting in v1.3, whiten='unit-variance' will be used by default.\n",
      "  warnings.warn(\n",
      "/usr/local/lib/python3.10/dist-packages/sklearn/cluster/_kmeans.py:870: FutureWarning: The default value of `n_init` will change from 10 to 'auto' in 1.4. Set the value of `n_init` explicitly to suppress the warning\n",
      "  warnings.warn(\n",
      "/usr/local/lib/python3.10/dist-packages/sklearn/decomposition/_nmf.py:1665: ConvergenceWarning: Maximum number of iterations 200 reached. Increase it to improve convergence.\n",
      "  warnings.warn(\n",
      "/usr/local/lib/python3.10/dist-packages/sklearn/cluster/_kmeans.py:870: FutureWarning: The default value of `n_init` will change from 10 to 'auto' in 1.4. Set the value of `n_init` explicitly to suppress the warning\n",
      "  warnings.warn(\n",
      "/usr/local/lib/python3.10/dist-packages/sklearn/cluster/_kmeans.py:870: FutureWarning: The default value of `n_init` will change from 10 to 'auto' in 1.4. Set the value of `n_init` explicitly to suppress the warning\n",
      "  warnings.warn(\n",
      "/usr/local/lib/python3.10/dist-packages/sklearn/decomposition/_fastica.py:542: FutureWarning: Starting in v1.3, whiten='unit-variance' will be used by default.\n",
      "  warnings.warn(\n",
      "/usr/local/lib/python3.10/dist-packages/sklearn/cluster/_kmeans.py:870: FutureWarning: The default value of `n_init` will change from 10 to 'auto' in 1.4. Set the value of `n_init` explicitly to suppress the warning\n",
      "  warnings.warn(\n",
      "/usr/local/lib/python3.10/dist-packages/sklearn/decomposition/_nmf.py:1665: ConvergenceWarning: Maximum number of iterations 200 reached. Increase it to improve convergence.\n",
      "  warnings.warn(\n",
      "/usr/local/lib/python3.10/dist-packages/sklearn/cluster/_kmeans.py:870: FutureWarning: The default value of `n_init` will change from 10 to 'auto' in 1.4. Set the value of `n_init` explicitly to suppress the warning\n",
      "  warnings.warn(\n",
      "/usr/local/lib/python3.10/dist-packages/sklearn/cluster/_kmeans.py:870: FutureWarning: The default value of `n_init` will change from 10 to 'auto' in 1.4. Set the value of `n_init` explicitly to suppress the warning\n",
      "  warnings.warn(\n",
      "/usr/local/lib/python3.10/dist-packages/sklearn/decomposition/_fastica.py:542: FutureWarning: Starting in v1.3, whiten='unit-variance' will be used by default.\n",
      "  warnings.warn(\n",
      "/usr/local/lib/python3.10/dist-packages/sklearn/decomposition/_fastica.py:123: ConvergenceWarning: FastICA did not converge. Consider increasing tolerance or the maximum number of iterations.\n",
      "  warnings.warn(\n",
      "/usr/local/lib/python3.10/dist-packages/sklearn/cluster/_kmeans.py:870: FutureWarning: The default value of `n_init` will change from 10 to 'auto' in 1.4. Set the value of `n_init` explicitly to suppress the warning\n",
      "  warnings.warn(\n",
      "/usr/local/lib/python3.10/dist-packages/sklearn/decomposition/_nmf.py:1665: ConvergenceWarning: Maximum number of iterations 200 reached. Increase it to improve convergence.\n",
      "  warnings.warn(\n",
      "/usr/local/lib/python3.10/dist-packages/sklearn/cluster/_kmeans.py:870: FutureWarning: The default value of `n_init` will change from 10 to 'auto' in 1.4. Set the value of `n_init` explicitly to suppress the warning\n",
      "  warnings.warn(\n",
      "/usr/local/lib/python3.10/dist-packages/sklearn/cluster/_kmeans.py:870: FutureWarning: The default value of `n_init` will change from 10 to 'auto' in 1.4. Set the value of `n_init` explicitly to suppress the warning\n",
      "  warnings.warn(\n",
      "/usr/local/lib/python3.10/dist-packages/sklearn/decomposition/_fastica.py:542: FutureWarning: Starting in v1.3, whiten='unit-variance' will be used by default.\n",
      "  warnings.warn(\n",
      "/usr/local/lib/python3.10/dist-packages/sklearn/cluster/_kmeans.py:870: FutureWarning: The default value of `n_init` will change from 10 to 'auto' in 1.4. Set the value of `n_init` explicitly to suppress the warning\n",
      "  warnings.warn(\n",
      "/usr/local/lib/python3.10/dist-packages/sklearn/decomposition/_nmf.py:1665: ConvergenceWarning: Maximum number of iterations 200 reached. Increase it to improve convergence.\n",
      "  warnings.warn(\n",
      "/usr/local/lib/python3.10/dist-packages/sklearn/cluster/_kmeans.py:870: FutureWarning: The default value of `n_init` will change from 10 to 'auto' in 1.4. Set the value of `n_init` explicitly to suppress the warning\n",
      "  warnings.warn(\n",
      "/usr/local/lib/python3.10/dist-packages/sklearn/cluster/_kmeans.py:870: FutureWarning: The default value of `n_init` will change from 10 to 'auto' in 1.4. Set the value of `n_init` explicitly to suppress the warning\n",
      "  warnings.warn(\n",
      "/usr/local/lib/python3.10/dist-packages/sklearn/decomposition/_fastica.py:542: FutureWarning: Starting in v1.3, whiten='unit-variance' will be used by default.\n",
      "  warnings.warn(\n",
      "/usr/local/lib/python3.10/dist-packages/sklearn/cluster/_kmeans.py:870: FutureWarning: The default value of `n_init` will change from 10 to 'auto' in 1.4. Set the value of `n_init` explicitly to suppress the warning\n",
      "  warnings.warn(\n"
     ]
    }
   ],
   "source": [
    "import numpy as np\n",
    "from sklearn.decomposition import NMF, PCA, FastICA\n",
    "from sklearn.cluster import KMeans\n",
    "from sklearn.mixture import GaussianMixture\n",
    "import matplotlib.pyplot as plt\n",
    "import os\n",
    "\n",
    "# Create a folder to save cluster plots if it doesn't exist\n",
    "output_folder = '/content/cluster_plot'\n",
    "os.makedirs(output_folder, exist_ok=True)\n",
    "\n",
    "# Function to plot clusters\n",
    "def plot_clusters(ax, X, labels, model_name):\n",
    "    unique_labels = set(labels)\n",
    "    colors = plt.cm.viridis(np.linspace(0, 1, len(unique_labels)))\n",
    "    for i, (label, color) in enumerate(zip(unique_labels, colors)):\n",
    "        ax.scatter(X[labels == label, 0], X[labels == label, 1], c=[color], label=f'Cluster {label}')\n",
    "    ax.set_title(f'{model_name} clustering')\n",
    "    ax.set_xlabel('Feature 1')\n",
    "    ax.set_ylabel('Feature 2')\n",
    "    ax.legend()\n",
    "\n",
    "# Define list of dataframes\n",
    "all_dataframes = [bl_dataframe, bl_v04_v06_dataframe, v06_dataframe, v08_dataframe, v10_dataframe, v12_dataframe]\n",
    "all_dataframes_name = ['bl_dataframe', 'v04_dataframe', 'v06_dataframe', 'v08_dataframe', 'v10_dataframe', 'v12_dataframe']\n",
    "\n",
    "# Assign names to the dataframes\n",
    "for i, dataframe in enumerate(all_dataframes):\n",
    "    dataframe.name = f'Dataset_{all_dataframes_name[i]}'\n",
    "\n",
    "# Define models\n",
    "models = [\n",
    "    (\"NMF\", NMF(n_components=3, init='random', random_state=0)),\n",
    "    (\"PCA\", PCA(n_components=3)),\n",
    "    (\"ICA\", FastICA(n_components=3, random_state=0))\n",
    "]\n",
    "\n",
    "# Iterate over each dataframe\n",
    "for dataframe in all_dataframes:\n",
    "    # Preprocess dataframe\n",
    "    X = dataframe\n",
    "\n",
    "    # Train and save cluster plots for each model\n",
    "    for model_name, model in models:\n",
    "        # Fit the model\n",
    "        X_transformed = model.fit_transform(X)\n",
    "\n",
    "        # K-means clustering\n",
    "        kmeans = KMeans(n_clusters=3, random_state=0).fit(X_transformed)\n",
    "        fig, ax = plt.subplots()\n",
    "        plot_clusters(ax, X_transformed, kmeans.labels_, f'K-means on {model_name}')\n",
    "        plt.savefig(os.path.join(output_folder, f'{model_name}_KMeans_{dataframe.name}.png'))\n",
    "        plt.close()\n",
    "\n",
    "        # GMM clustering\n",
    "        gmm = GaussianMixture(n_components=3, random_state=0).fit(X_transformed)\n",
    "        fig, ax = plt.subplots()\n",
    "        plot_clusters(ax, X_transformed, gmm.predict(X_transformed), f'GMM on {model_name}')\n",
    "        plt.savefig(os.path.join(output_folder, f'{model_name}_GMM_{dataframe.name}.png'))\n",
    "        plt.close()\n"
   ]
  },
  {
   "cell_type": "code",
   "execution_count": null,
   "metadata": {
    "colab": {
     "base_uri": "https://localhost:8080/"
    },
    "id": "udX8JOdNSTYv",
    "outputId": "790bae04-59ae-485d-eed3-1f972cde21e8"
   },
   "outputs": [
    {
     "name": "stdout",
     "output_type": "stream",
     "text": [
      "  adding: content/cluster_plot/ (stored 0%)\n",
      "  adding: content/cluster_plot/PCA_GMM_Dataset_v10_dataframe.png (deflated 5%)\n",
      "  adding: content/cluster_plot/NMF_GMM_Dataset_bl_dataframe.png (deflated 6%)\n",
      "  adding: content/cluster_plot/ICA_KMeans_Dataset_v08_dataframe.png (deflated 4%)\n",
      "  adding: content/cluster_plot/NMF_GMM_Dataset_v06_dataframe.png (deflated 5%)\n",
      "  adding: content/cluster_plot/ICA_KMeans_Dataset_v04_dataframe.png (deflated 4%)\n",
      "  adding: content/cluster_plot/PCA_GMM_Dataset_v04_dataframe.png (deflated 4%)\n",
      "  adding: content/cluster_plot/NMF_GMM_Dataset_v10_dataframe.png (deflated 5%)\n",
      "  adding: content/cluster_plot/ICA_GMM_Dataset_v06_dataframe.png (deflated 4%)\n",
      "  adding: content/cluster_plot/ICA_KMeans_Dataset_bl_dataframe.png (deflated 4%)\n",
      "  adding: content/cluster_plot/NMF_KMeans_Dataset_v08_dataframe.png (deflated 5%)\n",
      "  adding: content/cluster_plot/PCA_GMM_Dataset_v12_dataframe.png (deflated 5%)\n",
      "  adding: content/cluster_plot/ICA_GMM_Dataset_v10_dataframe.png (deflated 5%)\n",
      "  adding: content/cluster_plot/PCA_KMeans_Dataset_v12_dataframe.png (deflated 5%)\n",
      "  adding: content/cluster_plot/ICA_GMM_Dataset_v08_dataframe.png (deflated 4%)\n",
      "  adding: content/cluster_plot/NMF_GMM_Dataset_v04_dataframe.png (deflated 5%)\n",
      "  adding: content/cluster_plot/PCA_KMeans_Dataset_bl_dataframe.png (deflated 6%)\n",
      "  adding: content/cluster_plot/NMF_GMM_Dataset_v08_dataframe.png (deflated 4%)\n",
      "  adding: content/cluster_plot/NMF_GMM_Dataset_v12_dataframe.png (deflated 5%)\n",
      "  adding: content/cluster_plot/NMF_KMeans_Dataset_v04_dataframe.png (deflated 5%)\n",
      "  adding: content/cluster_plot/PCA_GMM_Dataset_v08_dataframe.png (deflated 5%)\n",
      "  adding: content/cluster_plot/NMF_KMeans_Dataset_bl_dataframe.png (deflated 5%)\n",
      "  adding: content/cluster_plot/PCA_KMeans_Dataset_v10_dataframe.png (deflated 5%)\n",
      "  adding: content/cluster_plot/NMF_KMeans_Dataset_v06_dataframe.png (deflated 5%)\n",
      "  adding: content/cluster_plot/ICA_GMM_Dataset_bl_dataframe.png (deflated 4%)\n",
      "  adding: content/cluster_plot/NMF_KMeans_Dataset_v10_dataframe.png (deflated 5%)\n",
      "  adding: content/cluster_plot/PCA_KMeans_Dataset_v06_dataframe.png (deflated 5%)\n",
      "  adding: content/cluster_plot/ICA_KMeans_Dataset_v12_dataframe.png (deflated 5%)\n",
      "  adding: content/cluster_plot/ICA_GMM_Dataset_v04_dataframe.png (deflated 5%)\n",
      "  adding: content/cluster_plot/PCA_KMeans_Dataset_v04_dataframe.png (deflated 5%)\n",
      "  adding: content/cluster_plot/ICA_KMeans_Dataset_v10_dataframe.png (deflated 5%)\n",
      "  adding: content/cluster_plot/PCA_GMM_Dataset_v06_dataframe.png (deflated 5%)\n",
      "  adding: content/cluster_plot/ICA_KMeans_Dataset_v06_dataframe.png (deflated 4%)\n",
      "  adding: content/cluster_plot/ICA_GMM_Dataset_v12_dataframe.png (deflated 5%)\n",
      "  adding: content/cluster_plot/PCA_GMM_Dataset_bl_dataframe.png (deflated 4%)\n",
      "  adding: content/cluster_plot/NMF_KMeans_Dataset_v12_dataframe.png (deflated 5%)\n",
      "  adding: content/cluster_plot/PCA_KMeans_Dataset_v08_dataframe.png (deflated 5%)\n"
     ]
    }
   ],
   "source": [
    "!zip -r cluster.zip /content/cluster_plot"
   ]
  },
  {
   "cell_type": "code",
   "execution_count": null,
   "metadata": {
    "colab": {
     "base_uri": "https://localhost:8080/",
     "height": 472
    },
    "id": "sOjTiD_7HySo",
    "outputId": "cf961db1-741d-4af4-8307-c54a6cb66284"
   },
   "outputs": [
    {
     "data": {
      "image/png": "[encoded data removed]",
      "text/plain": [
       "<Figure size 640x480 with 1 Axes>"
      ]
     },
     "metadata": {},
     "output_type": "display_data"
    }
   ],
   "source": [
    "import numpy as np\n",
    "import matplotlib.pyplot as plt\n",
    "from sklearn.decomposition import PCA\n",
    "from sklearn.mixture import GaussianMixture\n",
    "\n",
    "# Define a function to plot clusters\n",
    "def plot_clusters(ax, X, labels, dataset_name, model_name):\n",
    "    unique_labels = set(labels)\n",
    "    colors = plt.cm.viridis(np.linspace(0, 1, len(unique_labels)))\n",
    "    for i, (label, color) in enumerate(zip(unique_labels, colors)):\n",
    "        ax.scatter(X[labels == label, 0], X[labels == label, 1], c=[color], label=f'Cluster {label}')\n",
    "    ax.set_title(f'{model_name} clustering - Model: {dataset_name}')\n",
    "    ax.set_xlabel('Feature 1')\n",
    "    ax.set_ylabel('Feature 2')\n",
    "    ax.legend()\n",
    "\n",
    "# Define your list of dataframes\n",
    "# Define your list of dataframes\n",
    "all_dataframes = [\n",
    "                # bl_dataframe, v04_dataframe, v06_dataframe, v08_dataframe, v10_dataframe, v12_dataframe,\n",
    "                #   bl_v04_dataframe,\n",
    "                #   bl_v04_v06_dataframe,\n",
    "                #   bl_v04_v06_v08_dataframe,\n",
    "                #   bl_v04_v06_v08_v10_dataframe,\n",
    "                  bl_v04_v06_v08_v10_v12_dataframe\n",
    "                  ]\n",
    "\n",
    "dataset_names = [\n",
    "                # 'bl_dataframe', 'v04_dataframe', 'v06_dataframe', 'v08_dataframe', 'v10_dataframe', 'v12_dataframe',\n",
    "                #  'bl_v04_dataframe',\n",
    "                #  'bl_v04_v06_dataframe',\n",
    "                #  'bl_v04_v06_v08_dataframe',\n",
    "                #  'bl_v04_v06_v08_v10_dataframe',\n",
    "                 'bl_v04_v06_v08_v10_v12_dataframe'\n",
    "                 ]\n",
    "\n",
    "# Define your PCA model\n",
    "pca = PCA(n_components=3)\n",
    "\n",
    "# Train Gaussian Mixture Model (GMM) on PCA-transformed data\n",
    "X = all_dataframes[0]\n",
    "\n",
    "dataset_name = 'bl_v04_v06_v08_v10_v12_dataframe'\n",
    "\n",
    "X_pca = pca.fit_transform(X)\n",
    "gmm_pca = GaussianMixture(n_components=3, random_state=0).fit(X_pca)\n",
    "\n",
    "# Transform each dataframe using PCA and apply the trained GMM model\n",
    "fig, ax = plt.subplots()\n",
    "\n",
    "\n",
    "# for X, dataset_name, ax in zip(all_dataframes, dataset_names):\n",
    "X_pca = pca.transform(X)\n",
    "labels = gmm_pca.predict(X_pca)\n",
    "\n",
    "    # Plot clusters\n",
    "plot_clusters(ax, X_pca, labels, dataset_name, \"GMM + PCA\")\n",
    "\n",
    "# Save plot\n",
    "# plt.savefig(f\"/content/combination_cluster_plot/{model_name}_{dataset_name}.png\")\n",
    "\n",
    "# Show the plot\n",
    "# plt.tight_layout()\n",
    "# plt.show()\n",
    "\n"
   ]
  },
  {
   "cell_type": "code",
   "execution_count": null,
   "metadata": {
    "colab": {
     "base_uri": "https://localhost:8080/"
    },
    "id": "pHn8OBNdxlMi",
    "outputId": "66920e13-aa23-47db-b806-8a26debeef1f"
   },
   "outputs": [
    {
     "name": "stdout",
     "output_type": "stream",
     "text": [
      "  adding: content/combination_cluster_plot/ (stored 0%)\n",
      "  adding: content/combination_cluster_plot/GMM_PCA_v08_dataframe.png (deflated 97%)\n",
      "  adding: content/combination_cluster_plot/.ipynb_checkpoints/ (stored 0%)\n",
      "  adding: content/combination_cluster_plot/GMM_PCA_bl_v04_v06_v08_v10_dataframe.png (deflated 97%)\n",
      "  adding: content/combination_cluster_plot/GMM_PCA_bl_v04_v06_v08_dataframe.png (deflated 97%)\n",
      "  adding: content/combination_cluster_plot/GMM_PCA_v10_dataframe.png (deflated 97%)\n",
      "  adding: content/combination_cluster_plot/GMM_PCA_bl_v04_dataframe.png (deflated 97%)\n",
      "  adding: content/combination_cluster_plot/GMM_PCA_v06_dataframe.png (deflated 97%)\n",
      "  adding: content/combination_cluster_plot/GMM_PCA_bl_v04_v06_v08_v10_v12_dataframe.png (deflated 97%)\n",
      "  adding: content/combination_cluster_plot/GMM_PCA_v04_dataframe.png (deflated 97%)\n",
      "  adding: content/combination_cluster_plot/GMM_PCA_v12_dataframe.png (deflated 97%)\n",
      "  adding: content/combination_cluster_plot/GMM_PCA_bl_v04_v06_dataframe.png (deflated 97%)\n",
      "  adding: content/combination_cluster_plot/GMM_PCA_bl_dataframe.png (deflated 9%)\n"
     ]
    }
   ],
   "source": [
    "!zip -r cluster.zip /content/combination_cluster_plot"
   ]
  }
 ],
 "metadata": {
  "colab": {
   "provenance": []
  },
  "kernelspec": {
   "display_name": "Python 3 (ipykernel)",
   "language": "python",
   "name": "python3"
  },
  "language_info": {
   "codemirror_mode": {
    "name": "ipython",
    "version": 3
   },
   "file_extension": ".py",
   "mimetype": "text/x-python",
   "name": "python",
   "nbconvert_exporter": "python",
   "pygments_lexer": "ipython3",
   "version": "3.9.13"
  }
 },
 "nbformat": 4,
 "nbformat_minor": 1
}
